{
 "cells": [
  {
   "cell_type": "code",
   "execution_count": null,
   "metadata": {},
   "outputs": [],
   "source": [
    "oldExt = 'ts'\n",
    "newExt = 'mpeg'\n",
    "targetFolder = \"./\"\n",
    "\n",
    "import glob, os\n",
    "\n",
    "for root, dirs, files in os.walk(targetFolder):\n",
    "    for file in files:\n",
    "        if file.endswith(\".\" + oldExt):\n",
    "            newFilename = os.path.join(root, file[:-len(oldExt)])\n",
    "            newFilename += newExt\n",
    "            os.rename(os.path.join(root, file), newFilename)\n",
    "            print(\"Renamed\", os.path.join(root, file), \"to\", newFilename)\n",
    "    "
   ]
  },
  {
   "cell_type": "code",
   "execution_count": null,
   "metadata": {},
   "outputs": [],
   "source": []
  }
 ],
 "metadata": {
  "kernelspec": {
   "display_name": "Python 3",
   "language": "python",
   "name": "python3"
  },
  "language_info": {
   "codemirror_mode": {
    "name": "ipython",
    "version": 3
   },
   "file_extension": ".py",
   "mimetype": "text/x-python",
   "name": "python",
   "nbconvert_exporter": "python",
   "pygments_lexer": "ipython3",
   "version": "3.7.9"
  }
 },
 "nbformat": 4,
 "nbformat_minor": 4
}
