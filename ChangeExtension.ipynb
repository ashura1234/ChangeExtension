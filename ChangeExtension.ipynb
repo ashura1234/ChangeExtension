{
 "cells": [
  {
   "cell_type": "code",
   "execution_count": null,
   "metadata": {},
   "outputs": [],
   "source": [
    "oldExt = 'ts'\n",
    "newExt = 'mpeg'\n",
    "targetFolder = \"./\"\n",
    "\n",
    "import glob, os\n",
    "\n",
    "\n",
    "for file in glob.glob('**/*.'+oldExt, recursive=True):\n",
    "    if file.endswith(\".\" + oldExt):\n",
    "        newFilename = file[:-len(oldExt)]\n",
    "        newFilename += newExt\n",
    "        os.rename(file, newFilename)\n",
    "        print(\"Renamed\", file, \"to\", newFilename)\n",
    "    "
   ]
  },
  {
   "cell_type": "code",
   "execution_count": null,
   "metadata": {},
   "outputs": [],
   "source": []
  }
 ],
 "metadata": {
  "kernelspec": {
   "display_name": "Python 3",
   "language": "python",
   "name": "python3"
  },
  "language_info": {
   "codemirror_mode": {
    "name": "ipython",
    "version": 3
   },
   "file_extension": ".py",
   "mimetype": "text/x-python",
   "name": "python",
   "nbconvert_exporter": "python",
   "pygments_lexer": "ipython3",
   "version": "3.7.9"
  }
 },
 "nbformat": 4,
 "nbformat_minor": 4
}
